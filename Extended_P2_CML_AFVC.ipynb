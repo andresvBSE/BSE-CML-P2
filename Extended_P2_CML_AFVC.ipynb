{
 "cells": [
  {
   "cell_type": "code",
   "execution_count": 1,
   "id": "87a90d67",
   "metadata": {},
   "outputs": [
    {
     "name": "stdout",
     "output_type": "stream",
     "text": [
      "Package         Version\r\n",
      "--------------- -------\r\n",
      "joblib          1.1.0\r\n",
      "numpy           1.21.4\r\n",
      "pandas          1.3.4\r\n",
      "pip             21.3.1\r\n",
      "python-dateutil 2.8.2\r\n",
      "pytz            2021.3\r\n",
      "scikit-learn    1.0.1\r\n",
      "scipy           1.7.2\r\n",
      "setuptools      58.3.0\r\n",
      "six             1.16.0\r\n",
      "threadpoolctl   3.0.0\r\n",
      "wheel           0.37.0\r\n"
     ]
    }
   ],
   "source": [
    "!pip list"
   ]
  },
  {
   "cell_type": "code",
   "execution_count": null,
   "id": "08537c06",
   "metadata": {},
   "outputs": [],
   "source": []
  }
 ],
 "metadata": {
  "kernelspec": {
   "display_name": "Python 3",
   "language": "python",
   "name": "python3"
  },
  "language_info": {
   "codemirror_mode": {
    "name": "ipython",
    "version": 3
   },
   "file_extension": ".py",
   "mimetype": "text/x-python",
   "name": "python",
   "nbconvert_exporter": "python",
   "pygments_lexer": "ipython3",
   "version": "3.8.8"
  }
 },
 "nbformat": 4,
 "nbformat_minor": 5
}
